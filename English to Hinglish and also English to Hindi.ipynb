{
 "cells": [
  {
   "cell_type": "markdown",
   "id": "c879bdce",
   "metadata": {},
   "source": [
    "# English to Hinglish Translation"
   ]
  },
  {
   "cell_type": "code",
   "execution_count": 1,
   "id": "ca0fb45a",
   "metadata": {},
   "outputs": [],
   "source": [
    "import warnings\n",
    "warnings.filterwarnings('ignore')"
   ]
  },
  {
   "cell_type": "code",
   "execution_count": 2,
   "id": "ddc3c027",
   "metadata": {},
   "outputs": [],
   "source": [
    "# Loading the necessary pakages\n",
    "from transformers import AutoTokenizer, AutoModelForSeq2SeqLM\n",
    "from transformers import pipeline"
   ]
  },
  {
   "cell_type": "markdown",
   "id": "92eb90ff",
   "metadata": {},
   "source": [
    "# Load pre-trained model from Huggingface Transformer"
   ]
  },
  {
   "cell_type": "code",
   "execution_count": 3,
   "id": "63aaa7ee",
   "metadata": {},
   "outputs": [],
   "source": [
    "tokenizer = AutoTokenizer.from_pretrained(\"Helsinki-NLP/opus-mt-en-hi\")\n",
    "model = AutoModelForSeq2SeqLM.from_pretrained(\"Helsinki-NLP/opus-mt-en-hi\")"
   ]
  },
  {
   "cell_type": "markdown",
   "id": "f931405b",
   "metadata": {},
   "source": [
    "# Function to convert Hindi to Hinglish"
   ]
  },
  {
   "cell_type": "code",
   "execution_count": 4,
   "id": "771a7a97",
   "metadata": {},
   "outputs": [],
   "source": [
    "def hindiToHinglish(sentence):\n",
    "    consonant = {'क':['ka','k'],'ख':['kha','kh'],'ग':['ga','g'],'घ':['gha','gh'],'च':['cha','ch'],'छ':['chha','chh'],'ज':['ja','j'],'झ':['jha','jh'],'ट':['ta','t'],'ठ':['tha','th'],'ड':['da','d'],'ढ':['dha','dh'],'त':['ta','t'],'थ':['tha','th'],'द':['da','d'],'ध':['dha','dh'],'न':['na','n'],'प':['pa','p'],'फ':['pha','ph'],'ब':['ba','b'],'भ':['bha','bh'],'म':['ma','m'],'य':['ya','y'],'र':['ra','r'],'ल':['la','l'],'व':['va','v'],'श':['sha','sh'],'स':['sa','s'],'ह':['ha','h'],'ञ':['gya','gy'],'ण':['da','d']}\n",
    "    vowel = {'अ':['a'],'आ':['aa'],'इ':['e'],'ई':['e'],'उ':['u'],'ऊ':['u'],'ए':['e'],'ऐ':['ae'],'ओ':['o'],'औ':['ao'],'ा':['a'],'ि':['i'],'ी':['ee'],'ु':['u'],'ू':['u'],'े':['e'],'ै':['ae'],'ो':['o'],'ौ':['ao'],'ं':['n'],'ँ':['n'],'्':['a'], '़':[''],'ः':['ah']}\n",
    "    words = sentence.split(' ')\n",
    "    eng = ''\n",
    "    for j in range(len(words)):\n",
    "        w = words[j]\n",
    "        for i in range(len(w)):\n",
    "            char = w[i]\n",
    "            if char in vowel:\n",
    "                eng += vowel[char][0]\n",
    "            elif char in consonant:\n",
    "                if i+1 == len(w) or i+1 < len(w) and w[i+1] in vowel:\n",
    "                    eng += consonant[char][1]\n",
    "                else:\n",
    "                    eng += consonant[char][0]\n",
    "            else:\n",
    "                eng += char\n",
    "        eng += ' '\n",
    "    return eng.strip()"
   ]
  },
  {
   "cell_type": "markdown",
   "id": "e5fd8e20",
   "metadata": {},
   "source": [
    "# Function to convert English to Hindi using Huggingface Transformer"
   ]
  },
  {
   "cell_type": "code",
   "execution_count": 5,
   "id": "bb528269",
   "metadata": {},
   "outputs": [],
   "source": [
    "def englishToHindi(sentence):\n",
    "    words = sentence.split()\n",
    "    hindi_words = []\n",
    "\n",
    "    for word in words:\n",
    "        if len(word) <= 5:\n",
    "            inputs = tokenizer.encode(word, return_tensors=\"pt\")\n",
    "            outputs = model.generate(inputs, max_length=40, num_beams=4, early_stopping=True)\n",
    "            hindi_word = tokenizer.decode(outputs[0], skip_special_tokens=True).strip()\n",
    "            hindi_words.append(hindi_word)\n",
    "        else:\n",
    "            hindi_words.append(word)\n",
    "\n",
    "    return ' '.join(hindi_words)\n"
   ]
  },
  {
   "cell_type": "markdown",
   "id": "6aa3b3be",
   "metadata": {},
   "source": [
    "# Function to convert English to Hinglish combining above two methods"
   ]
  },
  {
   "cell_type": "code",
   "execution_count": 6,
   "id": "22ef4476",
   "metadata": {},
   "outputs": [],
   "source": [
    "def englishToHinglish(sentence):\n",
    "    return hindiToHinglish(englishToHindi(sentence))"
   ]
  },
  {
   "cell_type": "markdown",
   "id": "a1cbab93",
   "metadata": {},
   "source": [
    "# Test: Convert a sentence in English to Hindi & Hinglish"
   ]
  },
  {
   "cell_type": "code",
   "execution_count": 7,
   "id": "7855a104",
   "metadata": {},
   "outputs": [],
   "source": [
    "# Define three sentences\n",
    "sentences = [\n",
    "    \"1. Definitely share your feedback in the comment section.\",\n",
    "    \"2. So even if it's a big video, I will clearly mention all the products.\",\n",
    "    \"3. I was waiting for my bag.\"\n",
    "]"
   ]
  },
  {
   "cell_type": "markdown",
   "id": "bf28e100",
   "metadata": {},
   "source": [
    "# Output for three sentences"
   ]
  },
  {
   "cell_type": "code",
   "execution_count": 8,
   "id": "02f508d2",
   "metadata": {},
   "outputs": [
    {
     "name": "stdout",
     "output_type": "stream",
     "text": [
      "English Sentence: 1. Definitely share your feedback in the comment section.\n",
      "Hindi Translation: 1.. Definitely साझा आपका feedback में वह comment section.\n",
      "Hinglish Transliteration: 1.. Definitely sajha aapaka feedback men vah comment section.\n",
      "\n",
      "English Sentence: 2. So even if it's a big video, I will clearly mention all the products.\n",
      "Hindi Translation: 2 तो यहां तक यदि यह है एक बड़ा video, आई होगा clearly mention सभी वह products.\n",
      "Hinglish Transliteration: 2 to yahan tak yadi yah hae ek bada video, aae hoga clearly mention sabhee vah products.\n",
      "\n",
      "English Sentence: 3. I was waiting for my bag.\n",
      "Hindi Translation: 3 आई था waiting के लिए मेरा बैग.\n",
      "Hinglish Transliteration: 3 aae tha waiting ke lie mera baega.\n",
      "\n"
     ]
    }
   ],
   "source": [
    "# Process and print each sentence\n",
    "for sentence in sentences:\n",
    "    hindi = englishToHindi(sentence)\n",
    "    hinglish = englishToHinglish(sentence)\n",
    "\n",
    "    print(\"English Sentence:\", sentence)\n",
    "    print(\"Hindi Translation:\", hindi.strip())\n",
    "    print(\"Hinglish Transliteration:\", hinglish)\n",
    "    print()"
   ]
  },
  {
   "cell_type": "code",
   "execution_count": null,
   "id": "bfce4990",
   "metadata": {},
   "outputs": [],
   "source": []
  }
 ],
 "metadata": {
  "kernelspec": {
   "display_name": "Python 3 (ipykernel)",
   "language": "python",
   "name": "python3"
  },
  "language_info": {
   "codemirror_mode": {
    "name": "ipython",
    "version": 3
   },
   "file_extension": ".py",
   "mimetype": "text/x-python",
   "name": "python",
   "nbconvert_exporter": "python",
   "pygments_lexer": "ipython3",
   "version": "3.10.9"
  }
 },
 "nbformat": 4,
 "nbformat_minor": 5
}
